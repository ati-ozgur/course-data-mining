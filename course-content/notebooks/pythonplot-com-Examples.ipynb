{
 "cells": [
  {
   "cell_type": "code",
   "execution_count": null,
   "metadata": {},
   "outputs": [],
   "source": [
    "%matplotlib inline\n",
    "\n",
    "import readline\n",
    "import altair as alt\n",
    "import pandas as pd\n",
    "import seaborn as sns\n",
    "from matplotlib import pyplot\n",
    "from plotnine import *\n",
    "import numpy as np\n",
    "\n",
    "from plotly import figure_factory\n",
    "from plotly import graph_objects\n",
    "import plotly.express as px\n",
    "from IPython.core.magic import Magics, magics_class, cell_magic\n",
    "\n",
    "from IPython.display import Image\n",
    "\n",
    "from pylab import rcParams\n",
    "\n",
    "size = 20\n",
    "params = {\n",
    "    \"legend.fontsize\": size,\n",
    "    \"figure.figsize\": (15, 5),\n",
    "    \"axes.labelsize\": size,\n",
    "    \"axes.titlesize\": size,\n",
    "    \"xtick.labelsize\": size,\n",
    "    \"ytick.labelsize\": size,\n",
    "    \"axes.titlesize\": 1.5 * size,\n",
    "    \"figure.figsize\": (12, 12),\n",
    "}\n",
    "rcParams.update(params)\n",
    "theme_update(\n",
    "    figure_size=(9, 9),\n",
    "    title=element_text(size=size),\n",
    "    text=element_text(size=0.6 * size),\n",
    ")  # for plotnine\n",
    "\n",
    "\n",
    "import plotly.io as pio\n",
    "pio.renderers.default = \"png\"\n",
    "pio.renderers[\"png\"].width = 750\n",
    "pio.renderers[\"png\"].height = 750\n",
    "\n",
    "alt.renderers.enable('png', webdriver='firefox')"
   ]
  },
  {
   "cell_type": "code",
   "execution_count": null,
   "metadata": {},
   "outputs": [],
   "source": [
    "%load_ext rpy2.ipython"
   ]
  },
  {
   "cell_type": "code",
   "execution_count": null,
   "metadata": {},
   "outputs": [],
   "source": [
    "%%R\n",
    "library(ggplot2) \n",
    "theme_set(theme_grey(base_size = 24))"
   ]
  },
  {
   "cell_type": "markdown",
   "metadata": {},
   "source": [
    "Outline\n",
    "\n",
    "* Plots \n",
    "    * Bar \n",
    "    * Histogram\n",
    "    * Scatter \n",
    "    * Box and whisker\n",
    "    * Line \n",
    "        * Time series\n",
    "* Extensions\n",
    "    * Faceting on categorical\n",
    "    * Stacked bar/histogram\n",
    "    * Line over scatter\n",
    "    * Multi color/symbol scatter\n",
    "    * Multiple line plots\n",
    "* Modifications\n",
    "    * Log scaled axes\n",
    "    * Time labeled axes\n",
    "    * Histogram bin-width\n",
    "    * Aspect ratio\n",
    "    * Axis boundaries\n"
   ]
  },
  {
   "cell_type": "markdown",
   "metadata": {},
   "source": [
    "## Load Data"
   ]
  },
  {
   "cell_type": "markdown",
   "metadata": {},
   "source": [
    "Data is from [ggplot2](http://ggplot2.tidyverse.org/reference/mpg.html).\n",
    "\n",
    "Many ggplot examples taken from [R for data science](http://r4ds.had.co.nz/visualize.html) by Garrett Grolemund and Hadley Wickham."
   ]
  },
  {
   "cell_type": "code",
   "execution_count": null,
   "metadata": {},
   "outputs": [],
   "source": [
    "%%R\n",
    "summary(mpg)"
   ]
  },
  {
   "cell_type": "code",
   "execution_count": null,
   "metadata": {},
   "outputs": [],
   "source": [
    "mpg = pd.read_csv('https://raw.githubusercontent.com/tidyverse/ggplot2/master/data-raw/mpg.csv')\n",
    "diamonds = pd.read_csv('https://raw.githubusercontent.com/tidyverse/ggplot2/master/data-raw/diamonds.csv')\n",
    "\n",
    "ts = (pd\n",
    "      .Series(np.random.randn(1000), \n",
    "              index=pd.date_range('1/1/2000', periods=1000))\n",
    "      .cumsum()\n",
    "      .to_frame()\n",
    "      .reset_index()\n",
    "     )\n",
    "ts.columns = ['date', 'value']"
   ]
  },
  {
   "cell_type": "code",
   "execution_count": null,
   "metadata": {
    "tags": [
     "data",
     "name:ts"
    ]
   },
   "outputs": [],
   "source": [
    "from IPython.display import display, HTML\n",
    "display(HTML(ts.head(5).to_html(index=False)))"
   ]
  },
  {
   "cell_type": "code",
   "execution_count": null,
   "metadata": {
    "tags": [
     "data",
     "name:mpg"
    ]
   },
   "outputs": [],
   "source": [
    "from IPython.display import display, HTML\n",
    "display(HTML(mpg.head(5).to_html(index=False)))"
   ]
  },
  {
   "cell_type": "code",
   "execution_count": null,
   "metadata": {
    "tags": [
     "data",
     "name:diamonds"
    ]
   },
   "outputs": [],
   "source": [
    "from IPython.display import display, HTML\n",
    "display(HTML(diamonds.head(5).to_html(index=False)))"
   ]
  },
  {
   "cell_type": "markdown",
   "metadata": {},
   "source": [
    "## Plots"
   ]
  },
  {
   "cell_type": "markdown",
   "metadata": {},
   "source": [
    "### Basic Plots"
   ]
  },
  {
   "cell_type": "markdown",
   "metadata": {},
   "source": [
    "#### Bar Charts of Counts"
   ]
  },
  {
   "cell_type": "code",
   "execution_count": null,
   "metadata": {
    "tags": [
     "ex",
     "name:bar-counts",
     "package:ggplot"
    ]
   },
   "outputs": [],
   "source": [
    "%%R -w 10 -h 10 -u in\n",
    "ggplot(data=mpg) + \n",
    "    aes(x=manufacturer) + \n",
    "    geom_bar() + \n",
    "    coord_flip() +\n",
    "    ggtitle(\"Number of Cars by Make\")"
   ]
  },
  {
   "cell_type": "code",
   "execution_count": null,
   "metadata": {
    "tags": [
     "ex",
     "name:bar-counts",
     "package:pandas"
    ]
   },
   "outputs": [],
   "source": [
    "(mpg['manufacturer']\n",
    " .value_counts(sort=False)\n",
    " .plot.barh()\n",
    " .set_title('Number of Cars by Make')\n",
    ");"
   ]
  },
  {
   "cell_type": "code",
   "execution_count": null,
   "metadata": {
    "scrolled": false,
    "tags": [
     "ex",
     "name:bar-counts",
     "package:plotnine"
    ]
   },
   "outputs": [],
   "source": [
    "\"\"\"plotnine gives an error on `ggplot(data=mpg)`.\n",
    "\"\"\"\n",
    "(ggplot(mpg) + \n",
    "   aes(x=\"manufacturer\") +\n",
    "   geom_bar(size=20) + \n",
    "   coord_flip() +\n",
    "   ggtitle(\"Number of Cars by Make\")\n",
    ")"
   ]
  },
  {
   "cell_type": "code",
   "execution_count": null,
   "metadata": {
    "scrolled": true,
    "tags": [
     "ex",
     "name:bar-counts",
     "package:plotly"
    ]
   },
   "outputs": [],
   "source": [
    "px.histogram(\n",
    "    mpg, y=\"manufacturer\", \n",
    "    title='Number of Cars by Make'\n",
    ")"
   ]
  },
  {
   "cell_type": "code",
   "execution_count": null,
   "metadata": {
    "tags": [
     "ex",
     "name:bar-counts",
     "package:altair"
    ]
   },
   "outputs": [],
   "source": [
    "(\n",
    "    alt.Chart(\n",
    "        mpg, title=\"Number of Cars by Make\"\n",
    "    )\n",
    "    .mark_bar()\n",
    "    .encode(\n",
    "        x=\"count()\", y=alt.Y(\"manufacturer\")\n",
    "    )\n",
    ")"
   ]
  },
  {
   "cell_type": "markdown",
   "metadata": {},
   "source": [
    "#### Histogram of Continuous Values"
   ]
  },
  {
   "cell_type": "code",
   "execution_count": null,
   "metadata": {
    "tags": [
     "ex",
     "name:simple-histogram",
     "package:ggplot"
    ]
   },
   "outputs": [],
   "source": [
    "%%R -w 10 -h 10 -u in\n",
    "ggplot(data=mpg) + \n",
    "    aes(x=cty) + \n",
    "    geom_histogram(binwidth=2)"
   ]
  },
  {
   "cell_type": "code",
   "execution_count": null,
   "metadata": {
    "tags": [
     "ex",
     "name:simple-histogram",
     "package:matplotlib"
    ]
   },
   "outputs": [],
   "source": [
    "pyplot.hist('cty', bins=12, data=mpg);"
   ]
  },
  {
   "cell_type": "code",
   "execution_count": null,
   "metadata": {
    "scrolled": false,
    "tags": [
     "ex",
     "name:simple-histogram",
     "package:pandas"
    ]
   },
   "outputs": [],
   "source": [
    "(mpg['cty']\n",
    " .plot\n",
    " .hist(bins=12));"
   ]
  },
  {
   "cell_type": "code",
   "execution_count": null,
   "metadata": {
    "tags": [
     "ex",
     "name:simple-histogram",
     "package:plotnine"
    ]
   },
   "outputs": [],
   "source": [
    "(ggplot(mpg) + \n",
    "    aes(x=\"cty\") +\n",
    "    geom_histogram(binwidth=2))"
   ]
  },
  {
   "cell_type": "code",
   "execution_count": null,
   "metadata": {
    "scrolled": false,
    "tags": [
     "ex",
     "name:simple-histogram",
     "package:plotly"
    ]
   },
   "outputs": [],
   "source": [
    "px.histogram(\n",
    "    mpg, x=\"cty\"\n",
    ")"
   ]
  },
  {
   "cell_type": "code",
   "execution_count": null,
   "metadata": {
    "tags": [
     "ex",
     "name:simple-histogram",
     "package:altair"
    ]
   },
   "outputs": [],
   "source": [
    "(\n",
    "    alt.Chart(mpg)\n",
    "    .mark_bar()\n",
    "    .encode(\n",
    "        alt.X(\"cty\", bin=alt.Bin(step=2)),\n",
    "        y=\"count()\",\n",
    "    )\n",
    ")"
   ]
  },
  {
   "cell_type": "markdown",
   "metadata": {},
   "source": [
    "#### Scatter Plot"
   ]
  },
  {
   "cell_type": "code",
   "execution_count": null,
   "metadata": {
    "tags": [
     "ex",
     "name:scatter-plot",
     "package:ggplot"
    ]
   },
   "outputs": [],
   "source": [
    "%%R -w 10 -h 10 -u in \n",
    "ggplot(data = mpg) +\n",
    "    aes(x = displ, y = hwy) +\n",
    "    geom_point() + \n",
    "    ggtitle(\"Engine Displacement in Liters vs Highway MPG\") +\n",
    "    xlab(\"Engine Displacement in Liters\") +\n",
    "    ylab(\"Highway MPG\")"
   ]
  },
  {
   "cell_type": "code",
   "execution_count": null,
   "metadata": {
    "tags": [
     "ex",
     "name:scatter-plot",
     "package:pandas"
    ]
   },
   "outputs": [],
   "source": [
    "(mpg\n",
    " .plot\n",
    " .scatter(x='displ', y='hwy')\n",
    " .set(title='Engine Displacement in Liters vs Highway MPG',\n",
    "      xlabel='Engine Displacement in Liters',\n",
    "      ylabel='Highway MPG'))"
   ]
  },
  {
   "cell_type": "code",
   "execution_count": null,
   "metadata": {
    "tags": [
     "ex",
     "name:scatter-plot",
     "package:plotnine"
    ]
   },
   "outputs": [],
   "source": [
    "(ggplot(mpg) +\n",
    "    aes(x = \"displ\", y = \"hwy\") +\n",
    "    geom_point() + \n",
    "    ggtitle(\"Engine Displacement in Liters vs Highway MPG\") +\n",
    "    xlab(\"Engine Displacement in Liters\") +\n",
    "    ylab(\"Highway MPG\"))"
   ]
  },
  {
   "cell_type": "code",
   "execution_count": null,
   "metadata": {
    "tags": [
     "ex",
     "name:scatter-plot",
     "package:altair"
    ]
   },
   "outputs": [],
   "source": [
    "alt.Chart(mpg).mark_circle().encode(\n",
    "    alt.X(\n",
    "        \"displ\",\n",
    "        title=\"Engine Displacement in Liters\",\n",
    "    ),\n",
    "    alt.Y(\n",
    "        \"hwy\",\n",
    "        title=\"Highway Miles per Gallon\",\n",
    "    ),\n",
    ").properties(\n",
    "    title=\"Engine Displacement in Liters\"\n",
    ")"
   ]
  },
  {
   "cell_type": "code",
   "execution_count": null,
   "metadata": {
    "tags": [
     "ex",
     "name:scatter-plot",
     "package:plotly"
    ]
   },
   "outputs": [],
   "source": [
    "px.scatter(\n",
    "    mpg, x=\"displ\", y=\"hwy\", \n",
    "    title='Engine Displacement in Liters vs Highway MPG',\n",
    "    labels=dict(\n",
    "       displ='Engine Displacement in Liters', \n",
    "       hwy='Highway MPG')\n",
    ")"
   ]
  },
  {
   "cell_type": "markdown",
   "metadata": {},
   "source": [
    "### Advanced Scatter Plotting"
   ]
  },
  {
   "cell_type": "code",
   "execution_count": null,
   "metadata": {
    "tags": [
     "ex",
     "name:scatter-with-regression",
     "package:ggplot"
    ]
   },
   "outputs": [],
   "source": [
    "%%R -w 10 -h 10 -u in \n",
    "ggplot(data = mpg) +\n",
    "    aes(x = displ, y = hwy) +\n",
    "    geom_point() +\n",
    "    geom_smooth(method=lm)"
   ]
  },
  {
   "cell_type": "code",
   "execution_count": null,
   "metadata": {
    "tags": [
     "ex",
     "name:scatter-with-regression",
     "package:plotnine"
    ]
   },
   "outputs": [],
   "source": [
    "(ggplot(mpg) +\n",
    "    aes(\"displ\", \"hwy\") +\n",
    "    geom_point() +\n",
    "    geom_smooth(method=\"lm\"))"
   ]
  },
  {
   "cell_type": "code",
   "execution_count": null,
   "metadata": {
    "tags": [
     "ex",
     "name:scatter-with-regression",
     "package:seaborn"
    ]
   },
   "outputs": [],
   "source": [
    "sns.lmplot(x=\"displ\", y=\"hwy\", \n",
    "           data=mpg, size=12)"
   ]
  },
  {
   "cell_type": "code",
   "execution_count": null,
   "metadata": {
    "tags": [
     "ex",
     "name:scatter-with-regression",
     "package:plotly"
    ]
   },
   "outputs": [],
   "source": [
    "'''No built in method to calculate and display confidence intervals.\n",
    "Must calculate manually and utilise existing features to build the confidence band.'''\n",
    "import statsmodels.api as sm\n",
    "from statsmodels.stats.outliers_influence import summary_table\n",
    "\n",
    "y=mpg.hwy\n",
    "x=mpg.displ\n",
    "X = sm.add_constant(x)\n",
    "res = sm.OLS(y, X).fit()\n",
    "\n",
    "st, data, ss2 = summary_table(res, alpha=0.05)\n",
    "preds = pd.DataFrame.from_records(data, columns=[s.replace('\\n', ' ') for s in ss2])\n",
    "preds['displ'] = mpg.displ\n",
    "preds = preds.sort_values(by='displ')\n",
    "\n",
    "fig = graph_objects.Figure(layout={\n",
    "    'title' : 'Engine Displacement in Liters vs Highway MPG',\n",
    "    'xaxis' : {\n",
    "        'title' : 'Engine Displacement in Liters'\n",
    "    },\n",
    "    'yaxis' : {\n",
    "        'title' : 'Highway MPG'\n",
    "    }\n",
    "})\n",
    "p1 = graph_objects.Scatter(**{\n",
    "    'mode' : 'markers',\n",
    "    'x' : mpg.displ,\n",
    "    'y' : mpg.hwy,\n",
    "    'name' : 'Points'\n",
    "})\n",
    "p2 = graph_objects.Scatter({\n",
    "    'mode' : 'lines',\n",
    "    'x' : preds['displ'],\n",
    "    'y' : preds['Predicted Value'],\n",
    "    'name' : 'Regression',\n",
    "})\n",
    "#Add a lower bound for the confidence interval, white\n",
    "p3 = graph_objects.Scatter({\n",
    "    'mode' : 'lines',\n",
    "    'x' : preds['displ'],\n",
    "    'y' : preds['Mean ci 95% low'],\n",
    "    'name' : 'Lower 95% CI',\n",
    "    'showlegend' : False,\n",
    "    'line' : {\n",
    "        'color' : 'white'\n",
    "    }\n",
    "})\n",
    "# Upper bound for the confidence band, transparent but with fill\n",
    "p4 = graph_objects.Scatter( {\n",
    "    'type' : 'scatter',\n",
    "    'mode' : 'lines',\n",
    "    'x' : preds['displ'],\n",
    "    'y' : preds['Mean ci 95% upp'],\n",
    "    'name' : '95% CI',\n",
    "    'fill' : 'tonexty',\n",
    "    'line' : {\n",
    "        'color' : 'white'\n",
    "    },\n",
    "    'fillcolor' : 'rgba(255, 127, 14, 0.3)'\n",
    "})\n",
    "fig.add_trace(p1)\n",
    "fig.add_trace(p2)\n",
    "fig.add_trace(p3)\n",
    "fig.add_trace(p4)\n",
    "Image(fig.to_image(format=\"png\", width=750, height=750))"
   ]
  },
  {
   "cell_type": "markdown",
   "metadata": {},
   "source": [
    "#### Scatter Plot with Colors"
   ]
  },
  {
   "cell_type": "code",
   "execution_count": null,
   "metadata": {
    "tags": [
     "ex",
     "name:scatter-plot-with-colors",
     "package:ggplot"
    ]
   },
   "outputs": [],
   "source": [
    "%%R -w 10 -h 10 -u in\n",
    "ggplot(data = mpg) + \n",
    "    aes(x = displ, y = hwy, color = class) +\n",
    "    geom_point() + \n",
    "    ggtitle(\"Engine Displacement in Liters vs Highway MPG\") +\n",
    "    xlab(\"Engine Displacement in Liters\") +\n",
    "    ylab(\"Highway MPG\")"
   ]
  },
  {
   "cell_type": "code",
   "execution_count": null,
   "metadata": {
    "scrolled": false,
    "tags": [
     "ex",
     "name:scatter-plot-with-colors",
     "package:matplotlib"
    ]
   },
   "outputs": [],
   "source": [
    "fig, ax = pyplot.subplots()\n",
    "for c, df in mpg.groupby('class'):\n",
    "    ax.scatter(df['displ'], df['hwy'], label=c)\n",
    "ax.legend()\n",
    "ax.set_title('Engine Displacement in Liters vs Highway MPG')\n",
    "ax.set_xlabel('Engine Displacement in Liters')\n",
    "ax.set_ylabel('Highway MPG');"
   ]
  },
  {
   "cell_type": "code",
   "execution_count": null,
   "metadata": {
    "tags": [
     "ex",
     "name:scatter-plot-with-colors",
     "package:altair"
    ]
   },
   "outputs": [],
   "source": [
    "(\n",
    "    alt.Chart(\n",
    "        mpg,\n",
    "        title=\"Engine Displacement in Liters vs Highway MPG\",\n",
    "    )\n",
    "    .mark_circle()\n",
    "    .encode(\n",
    "        alt.X(\n",
    "            \"displ\",\n",
    "            title=\"Engine Displacament in Liters\",\n",
    "        ),\n",
    "        alt.Y(\"hwy\", title=\"Highway MPG\"),\n",
    "        color=\"class\",\n",
    "    )\n",
    ")"
   ]
  },
  {
   "cell_type": "code",
   "execution_count": null,
   "metadata": {
    "tags": [
     "ex",
     "name:scatter-plot-with-colors",
     "package:seaborn"
    ]
   },
   "outputs": [],
   "source": [
    "\"\"\"seaborn.FacetGrid overrides the `rcParams['figure.figsize'] global parameter. \n",
    "You have to set the size in the size with `size=` in `FacetGrid`\"\"\"\n",
    "(sns\n",
    " .FacetGrid(mpg, hue=\"class\", size=10)\n",
    " .map(pyplot.scatter, \"displ\", \"hwy\")\n",
    " .add_legend()\n",
    " .set(\n",
    "    title=\"Engine Displacement in Liters vs Highway MPG\",\n",
    "    xlabel=\"Engine Displacement in Liters\",\n",
    "    ylabel=\"Highway MPG\"\n",
    "));"
   ]
  },
  {
   "cell_type": "code",
   "execution_count": null,
   "metadata": {
    "tags": [
     "ex",
     "name:scatter-plot-with-colors",
     "package:plotnine"
    ]
   },
   "outputs": [],
   "source": [
    "(ggplot(mpg) + \n",
    "    aes(x = \"displ\", y = \"hwy\", color = \"class\") +\n",
    "    geom_point() + \n",
    "    ggtitle(\"Engine Displacement in Liters vs Highway MPG\") +\n",
    "    xlab(\"Engine Displacement in Liters\") +\n",
    "    ylab(\"Highway MPG\"))"
   ]
  },
  {
   "cell_type": "code",
   "execution_count": null,
   "metadata": {
    "tags": [
     "ex",
     "name:scatter-plot-with-colors",
     "package:plotly"
    ]
   },
   "outputs": [],
   "source": [
    "px.scatter(\n",
    "    mpg, x=\"displ\", y=\"hwy\", color=\"class\", \n",
    "    title='Engine Displacement in Liters vs Highway MPG',\n",
    "    labels=dict(\n",
    "       displ='Engine Displacement in Liters', \n",
    "       hwy='Highway MPG')\n",
    ")"
   ]
  },
  {
   "cell_type": "markdown",
   "metadata": {},
   "source": [
    "#### Scatter Plot with Sizes and Transparency"
   ]
  },
  {
   "cell_type": "code",
   "execution_count": null,
   "metadata": {
    "tags": [
     "ex",
     "name:scatter-plot-with-size",
     "package:ggplot"
    ]
   },
   "outputs": [],
   "source": [
    "%%R -w 10 -h 10 -u in\n",
    "ggplot(data = mpg) +\n",
    "    aes(x = cty, y = hwy, size = cyl) +\n",
    "    geom_point(alpha=.5)"
   ]
  },
  {
   "cell_type": "code",
   "execution_count": null,
   "metadata": {
    "tags": [
     "ex",
     "name:scatter-plot-with-size",
     "package:altair"
    ]
   },
   "outputs": [],
   "source": [
    "(\n",
    "    alt.Chart(\n",
    "        mpg,\n",
    "        title=\"City MPG vs Highway MPG\",\n",
    "    )\n",
    "    .mark_circle(opacity=0.3)\n",
    "    .encode(\n",
    "        x=alt.X(\n",
    "            \"cty\",\n",
    "            axis=alt.Axis(title=\"City MPG\"),\n",
    "        ),\n",
    "        y=alt.Y(\n",
    "            \"hwy\",\n",
    "            axis=alt.Axis(\n",
    "                title=\"Highway MPG\"\n",
    "            ),\n",
    "        ),\n",
    "        size=\"cyl\",\n",
    "    )\n",
    ")"
   ]
  },
  {
   "cell_type": "code",
   "execution_count": null,
   "metadata": {
    "scrolled": false,
    "tags": [
     "ex",
     "name:scatter-plot-with-size",
     "package:pandas"
    ]
   },
   "outputs": [],
   "source": [
    "ax = (mpg\n",
    "    .plot\n",
    "    .scatter(x='cty', \n",
    "             y='hwy', \n",
    "             s=10*mpg['cyl'],\n",
    "             alpha=.5))\n",
    "ax.set_title('City MPG vs Highway MPG')\n",
    "ax.set_xlabel('City MPG')\n",
    "ax.set_ylabel('Highway MPG');"
   ]
  },
  {
   "cell_type": "code",
   "execution_count": null,
   "metadata": {
    "tags": [
     "ex",
     "name:scatter-plot-with-size",
     "package:plotnine"
    ]
   },
   "outputs": [],
   "source": [
    "(ggplot(mpg) +\n",
    "    aes(x=\"cty\", y=\"hwy\", size=\"cyl\") +\n",
    "    geom_point(alpha=.5))"
   ]
  },
  {
   "cell_type": "code",
   "execution_count": null,
   "metadata": {
    "tags": [
     "ex",
     "name:scatter-plot-with-size",
     "package:plotly"
    ]
   },
   "outputs": [],
   "source": [
    "px.scatter(\n",
    "    mpg, x=\"cty\", y=\"hwy\", \n",
    "    size=\"cyl\", size_max=10,\n",
    "    title='City MPG vs Highway MPG',\n",
    "    labels=dict(cty='City MPG', hwy='Highway MPG')\n",
    ")"
   ]
  },
  {
   "cell_type": "markdown",
   "metadata": {},
   "source": [
    "#### Scatter Plot with Single Facet"
   ]
  },
  {
   "cell_type": "code",
   "execution_count": null,
   "metadata": {
    "tags": [
     "ex",
     "name:scatter-plot-with-facet",
     "package:altair"
    ]
   },
   "outputs": [],
   "source": [
    "alt.Chart(mpg).mark_circle().encode(\n",
    "    x=alt.X(\"displ\"),\n",
    "    y=alt.Y(\"hwy\"),\n",
    "    facet=alt.Facet(\"class:O\", columns=4),\n",
    ").properties(width=200, height=300)"
   ]
  },
  {
   "cell_type": "code",
   "execution_count": null,
   "metadata": {
    "tags": [
     "ex",
     "name:scatter-plot-with-facet",
     "package:ggplot"
    ]
   },
   "outputs": [],
   "source": [
    "%%R -w 10 -h 10 -u in\n",
    "ggplot(data = mpg) + \n",
    "  aes(x=displ, y=hwy) +\n",
    "  geom_point() + \n",
    "  facet_wrap(~ class, nrow = 2)"
   ]
  },
  {
   "cell_type": "code",
   "execution_count": null,
   "metadata": {
    "tags": [
     "ex",
     "name:scatter-plot-with-facet",
     "package:seaborn"
    ]
   },
   "outputs": [],
   "source": [
    "(mpg\n",
    " .pipe(sns.FacetGrid, \n",
    "       col=\"class\", \n",
    "       col_wrap=4, \n",
    "       aspect=.5, \n",
    "       size=6)\n",
    " .map(pyplot.scatter, \"displ\", \"hwy\", s=20)\n",
    " .fig.subplots_adjust(wspace=.2, hspace=.2)\n",
    ");"
   ]
  },
  {
   "cell_type": "code",
   "execution_count": null,
   "metadata": {
    "tags": [
     "ex",
     "name:scatter-plot-with-facet",
     "package:plotnine"
    ]
   },
   "outputs": [],
   "source": [
    "(ggplot(mpg.assign(c=mpg[\"class\"])) + \n",
    "  aes(x=\"displ\", y=\"hwy\") +\n",
    "  geom_point() +\n",
    "  facet_wrap(\" ~ c\", nrow = 2))"
   ]
  },
  {
   "cell_type": "code",
   "execution_count": null,
   "metadata": {
    "tags": [
     "ex",
     "name:scatter-plot-with-facet",
     "package:plotly"
    ]
   },
   "outputs": [],
   "source": [
    "px.scatter(\n",
    "    mpg, x=\"displ\", y=\"hwy\", \n",
    "    facet_col=\"class\", facet_col_wrap=4\n",
    ")"
   ]
  },
  {
   "cell_type": "markdown",
   "metadata": {},
   "source": [
    "#### Scatter Plot with Facets"
   ]
  },
  {
   "cell_type": "code",
   "execution_count": null,
   "metadata": {
    "tags": [
     "ex",
     "name:scatter-plot-with-facets",
     "package:ggplot"
    ]
   },
   "outputs": [],
   "source": [
    "%%R -w 10 -h 10 -u in\n",
    "ggplot(data = mpg) + \n",
    "  aes(x = displ, y = hwy) +\n",
    "  geom_point() + \n",
    "  facet_grid(drv ~ cyl)"
   ]
  },
  {
   "cell_type": "code",
   "execution_count": null,
   "metadata": {
    "tags": [
     "ex",
     "name:scatter-plot-with-facets",
     "package:altair"
    ]
   },
   "outputs": [],
   "source": [
    "(alt\n",
    " .Chart(mpg)\n",
    " .mark_circle()\n",
    " .encode(x=\"displ\", y=\"hwy\",)\n",
    " .properties(\n",
    "    width=100, height=150\n",
    "  )\n",
    " .facet(column=\"cyl\", row=\"drv\")\n",
    ")"
   ]
  },
  {
   "cell_type": "code",
   "execution_count": null,
   "metadata": {
    "tags": [
     "ex",
     "name:scatter-plot-with-facets",
     "package:seaborn"
    ]
   },
   "outputs": [],
   "source": [
    "(mpg\n",
    " .pipe(sns.FacetGrid, \n",
    "       col=\"cyl\", \n",
    "       row=\"drv\", \n",
    "       aspect=.9, \n",
    "       size=4)\n",
    " .map(pyplot.scatter, \"displ\", \"hwy\", s=20)\n",
    " .fig.subplots_adjust(wspace=.02, hspace=.02)\n",
    ");"
   ]
  },
  {
   "cell_type": "code",
   "execution_count": null,
   "metadata": {
    "tags": [
     "ex",
     "name:scatter-plot-with-facets",
     "package:plotnine"
    ]
   },
   "outputs": [],
   "source": [
    "(ggplot(mpg) + \n",
    "  aes(x=\"displ\", y=\"hwy\") +\n",
    "  geom_point() + \n",
    "  facet_grid(\"drv ~ cyl\"))"
   ]
  },
  {
   "cell_type": "code",
   "execution_count": null,
   "metadata": {
    "tags": [
     "ex",
     "name:scatter-plot-with-facets",
     "package:plotly"
    ]
   },
   "outputs": [],
   "source": [
    "px.scatter(\n",
    "    mpg, x=\"displ\", y=\"hwy\", \n",
    "    facet_col=\"cyl\", facet_row=\"drv\",\n",
    "    category_orders=dict(cyl=[4,5,6,8])\n",
    ")"
   ]
  },
  {
   "cell_type": "markdown",
   "metadata": {},
   "source": [
    "Stacked Scatter and Smoothed Line Plot"
   ]
  },
  {
   "cell_type": "code",
   "execution_count": null,
   "metadata": {
    "tags": [
     "ex",
     "name:stacked-smooth-line-and-scatter",
     "package:ggplot"
    ]
   },
   "outputs": [],
   "source": [
    "%%R -w 10 -h 10 -u in\n",
    "subcompact = mpg[mpg$`class` == \"subcompact\", ]\n",
    "ggplot(data = mpg, \n",
    "       mapping = aes(x = displ, y = hwy)) + \n",
    "  geom_point(mapping = aes(color = class)) + \n",
    "  geom_smooth(data = subcompact, \n",
    "              se = FALSE,\n",
    "              method = 'loess')"
   ]
  },
  {
   "cell_type": "code",
   "execution_count": null,
   "metadata": {
    "tags": [
     "ex",
     "name:stacked-smooth-line-and-scatter",
     "package:altair"
    ]
   },
   "outputs": [],
   "source": [
    "scatter = (\n",
    "    alt.Chart(\n",
    "        mpg,\n",
    "        title=\"Engine Displacement in Liters vs Highway MPG\",\n",
    "    )\n",
    "    .mark_circle()\n",
    "    .encode(\n",
    "        x=alt.X(\n",
    "            \"displ\",\n",
    "            axis=alt.Axis(\n",
    "                title=\"Engine Displacament in Liters\"\n",
    "            ),\n",
    "        ),\n",
    "        y=alt.Y(\n",
    "            \"hwy\",\n",
    "            axis=alt.Axis(\n",
    "                title=\"Highway MPG\"\n",
    "            ),\n",
    "        ),\n",
    "        color=\"class\",\n",
    "    )\n",
    ")\n",
    "\n",
    "line = (\n",
    "    alt.Chart(\n",
    "        mpg[mpg[\"class\"] == \"subcompact\"]\n",
    "    )\n",
    "    .transform_loess(\"displ\", \"hwy\")\n",
    "    .mark_line()\n",
    "    .encode(x=alt.X(\"displ\"), y=alt.Y(\"hwy\"))\n",
    ")\n",
    "\n",
    "scatter + line"
   ]
  },
  {
   "cell_type": "code",
   "execution_count": null,
   "metadata": {
    "tags": [
     "ex",
     "name:stacked-smooth-line-and-scatter",
     "package:plotnine"
    ]
   },
   "outputs": [],
   "source": [
    "\"\"\"Notice the smoothed line isn't as smooth as it is in ggplot2.\"\"\"\n",
    "(ggplot(data=mpg, \n",
    "        mapping=aes(x=\"displ\", y=\"hwy\")) + \n",
    "  geom_point(mapping=aes(color = \"class\")) + \n",
    "  geom_smooth(data=mpg[mpg['class'] == \"subcompact\"], \n",
    "              se=False,\n",
    "              method = 'loess'\n",
    "             ))"
   ]
  },
  {
   "cell_type": "code",
   "execution_count": null,
   "metadata": {
    "tags": [
     "ex",
     "name:stacked-smooth-line-and-scatter",
     "package:plotly"
    ]
   },
   "outputs": [],
   "source": [
    "'''Plotly's builtin smoothing function is very weak'''\n",
    "\n",
    "traces = []\n",
    "for cls in mpg['class'].unique():\n",
    "    traces.append(graph_objects.Scatter({\n",
    "        'mode' : 'markers',\n",
    "        'x' : mpg.displ[mpg['class'] == cls],\n",
    "        'y' : mpg.hwy[mpg['class'] == cls],\n",
    "        'name' : cls\n",
    "    }))\n",
    "\n",
    "    \n",
    "subcompact = mpg[mpg['class'] == 'subcompact'].sort_values(by='displ')\n",
    "\n",
    "traces.append(graph_objects.Scatter({\n",
    "    'mode' : 'lines',\n",
    "    'x' : subcompact.displ,\n",
    "    'y' : subcompact.hwy,\n",
    "    'name' : 'smoothing',\n",
    "    'line' : {\n",
    "        'shape' : 'spline',\n",
    "        'smoothing' : 1.3\n",
    "    }\n",
    "}))\n",
    "    \n",
    "fig = graph_objects.Figure(**{\n",
    "    'data' : traces,\n",
    "    'layout' : {\n",
    "        'title' : 'Engine Displacement in Liters vs Highway MPG',\n",
    "        'xaxis' : {\n",
    "            'title' : 'Engine Displacement in Liters',\n",
    "        },\n",
    "        'yaxis' : {\n",
    "            'title' : 'Highway MPG'\n",
    "        }\n",
    "    }\n",
    "})\n",
    "Image(fig.to_image(format=\"png\", width=750, height=750))"
   ]
  },
  {
   "cell_type": "code",
   "execution_count": null,
   "metadata": {
    "tags": [
     "ex",
     "name:stacked-bar-chart",
     "package:ggplot"
    ]
   },
   "outputs": [],
   "source": [
    "%%R -w 10 -h 10 -u in\n",
    "ggplot(data = diamonds) + \n",
    "  aes(x = cut, fill = clarity) +\n",
    "  geom_bar()"
   ]
  },
  {
   "cell_type": "code",
   "execution_count": null,
   "metadata": {
    "tags": [
     "ex",
     "name:stacked-bar-chart",
     "package:plotnine"
    ]
   },
   "outputs": [],
   "source": [
    "(ggplot(diamonds) + \n",
    "  aes(x=\"cut\", fill=\"clarity\") +\n",
    "  geom_bar())"
   ]
  },
  {
   "cell_type": "code",
   "execution_count": null,
   "metadata": {
    "tags": [
     "ex",
     "name:stacked-bar-chart",
     "package:altair"
    ]
   },
   "outputs": [],
   "source": [
    "alt.data_transformers.disable_max_rows()\n",
    "alt.Chart(diamonds).mark_bar().encode(\n",
    "    x=\"cut\", y=\"count(cut)\", color=\"clarity\"\n",
    ").properties(width=300)"
   ]
  },
  {
   "cell_type": "code",
   "execution_count": null,
   "metadata": {
    "tags": [
     "ex",
     "name:stacked-bar-chart",
     "package:pandas"
    ]
   },
   "outputs": [],
   "source": [
    "(diamonds\n",
    " .groupby(['cut', 'clarity'])\n",
    " .size()\n",
    " .unstack()\n",
    " .plot.bar(stacked=True)\n",
    ");"
   ]
  },
  {
   "cell_type": "code",
   "execution_count": null,
   "metadata": {
    "tags": [
     "ex",
     "name:stacked-bar-chart",
     "package:plotly"
    ]
   },
   "outputs": [],
   "source": [
    "px.histogram(\n",
    "    diamonds, x=\"cut\", color=\"clarity\",\n",
    "    category_orders=dict(cut=[\n",
    "     \"Fair\", \"Good\",  \"Very Good\", \n",
    "     \"Premium\", \"Ideal\"])\n",
    ")"
   ]
  },
  {
   "cell_type": "code",
   "execution_count": null,
   "metadata": {
    "tags": [
     "ex",
     "name:dodged-bar-chart",
     "package:ggplot"
    ]
   },
   "outputs": [],
   "source": [
    "%%R -w 10 -h 10 -u in\n",
    "ggplot(data = diamonds) + \n",
    "  aes(x = cut, fill = clarity) +\n",
    "  geom_bar(position = \"dodge\")"
   ]
  },
  {
   "cell_type": "code",
   "execution_count": null,
   "metadata": {
    "tags": [
     "name:dodged-bar-chart",
     "ex",
     "package:altair"
    ]
   },
   "outputs": [],
   "source": [
    "alt.data_transformers.disable_max_rows()\n",
    "alt.Chart(diamonds).mark_bar().encode(\n",
    "    x=\"clarity\",\n",
    "    y=\"count(cut)\",\n",
    "    color=\"clarity\",\n",
    "    column=\"cut\",\n",
    ").properties(width=100)"
   ]
  },
  {
   "cell_type": "code",
   "execution_count": null,
   "metadata": {
    "tags": [
     "ex",
     "name:dodged-bar-chart",
     "package:plotnine"
    ]
   },
   "outputs": [],
   "source": [
    "(ggplot(diamonds) + \n",
    "  aes(x='cut', fill='clarity') +\n",
    "  geom_bar(position = \"dodge\"))\n"
   ]
  },
  {
   "cell_type": "code",
   "execution_count": null,
   "metadata": {
    "tags": [
     "ex",
     "name:dodged-bar-chart",
     "package:pandas"
    ]
   },
   "outputs": [],
   "source": [
    "(diamonds\n",
    " .groupby(['cut', 'clarity'])\n",
    " .size()\n",
    " .unstack()\n",
    " .plot.bar()\n",
    ");"
   ]
  },
  {
   "cell_type": "code",
   "execution_count": null,
   "metadata": {
    "tags": [
     "name:dodged-bar-chart",
     "package:plotly",
     "ex"
    ]
   },
   "outputs": [],
   "source": [
    "px.histogram(\n",
    "    diamonds, x=\"cut\", color=\"clarity\", barmode=\"group\",\n",
    "    category_orders=dict(cut=[\n",
    "     \"Fair\", \"Good\",  \"Very Good\", \n",
    "     \"Premium\", \"Ideal\"])\n",
    ")"
   ]
  },
  {
   "cell_type": "code",
   "execution_count": null,
   "metadata": {
    "tags": [
     "ex",
     "name:stacked-kde",
     "package:ggplot"
    ]
   },
   "outputs": [],
   "source": [
    "%%R -w 10 -h 10 -u in\n",
    "ggplot(diamonds) +\n",
    "  aes(depth, fill = cut, colour = cut) +\n",
    "  geom_density(alpha = 0.1) +\n",
    "  xlim(55, 70)"
   ]
  },
  {
   "cell_type": "code",
   "execution_count": null,
   "metadata": {
    "tags": [
     "ex",
     "name:stacked-kde",
     "package:pandas"
    ]
   },
   "outputs": [],
   "source": [
    "\"\"\"I don't know whether Pandas can fill a KDE curve.\n",
    "\n",
    "This requires using some Matplotlib to get them to stack and to have a legend.\n",
    "\"\"\"\n",
    "fig, ax = pyplot.subplots()\n",
    "ax.set_xlim(55, 70)\n",
    "for cut in diamonds['cut'].unique():\n",
    "    s = diamonds[diamonds[\"cut\"] == cut]['depth']\n",
    "    s.plot.kde(ax=ax, label=cut)\n",
    "ax.legend()"
   ]
  },
  {
   "cell_type": "code",
   "execution_count": null,
   "metadata": {
    "tags": [
     "ex",
     "name:stacked-kde",
     "package:seaborn"
    ]
   },
   "outputs": [],
   "source": [
    "(sns\n",
    "  .FacetGrid(diamonds, \n",
    "             hue=\"cut\", \n",
    "             size=10, \n",
    "             xlim=(55, 70))\n",
    "  .map(sns.kdeplot, 'depth', shade=True)\n",
    " .add_legend()\n",
    ");"
   ]
  },
  {
   "cell_type": "code",
   "execution_count": null,
   "metadata": {
    "scrolled": false,
    "tags": [
     "ex",
     "name:stacked-kde",
     "package:plotnine"
    ]
   },
   "outputs": [],
   "source": [
    "\"\"\"`+ xlim(55, 70)` results in an error.\"\"\"\n",
    "(ggplot(diamonds) +\n",
    "  aes('depth', fill='cut', color='cut') +\n",
    "  geom_density(alpha=0.1))"
   ]
  },
  {
   "cell_type": "code",
   "execution_count": null,
   "metadata": {
    "tags": [
     "ex",
     "name:stacked-kde",
     "package:altair"
    ]
   },
   "outputs": [],
   "source": [
    "alt.data_transformers.disable_max_rows()\n",
    "alt.Chart(diamonds).transform_density(\n",
    "    \"depth\",\n",
    "    as_=[\"depth\", \"density\"],\n",
    "    groupby=[\"cut\"],\n",
    "    extent=[55, 70],\n",
    ").mark_area(fillOpacity=0.3,).encode(\n",
    "    x=\"depth\",\n",
    "    y=\"density:Q\",\n",
    "    color=\"cut\",\n",
    "    stroke=\"cut\",\n",
    ")"
   ]
  },
  {
   "cell_type": "code",
   "execution_count": null,
   "metadata": {
    "tags": [
     "ex",
     "name:stacked-kde",
     "package:plotly"
    ]
   },
   "outputs": [],
   "source": [
    "fig = figure_factory.create_distplot(\n",
    "    [diamonds[\"depth\"][diamonds[\"cut\"] == c].values \n",
    "     for c in diamonds.cut.unique()\n",
    "    ],\n",
    "    diamonds.cut.unique(),\n",
    "    show_hist=False,\n",
    "    show_rug=False,\n",
    ")\n",
    "for d in fig[\"data\"]:\n",
    "    d.update({\"fill\": \"tozeroy\"})\n",
    "Image(fig.to_image(format=\"png\", width=750, height=750))"
   ]
  },
  {
   "cell_type": "code",
   "execution_count": null,
   "metadata": {
    "tags": [
     "ex",
     "name:timeseries",
     "package:ggplot"
    ]
   },
   "outputs": [],
   "source": [
    "%%R -i ts -w 10 -h 10 -u in \n",
    "ggplot(ts) + aes(date, value) + geom_line()"
   ]
  },
  {
   "cell_type": "code",
   "execution_count": null,
   "metadata": {
    "tags": [
     "ex",
     "name:timeseries",
     "package:plotnine"
    ]
   },
   "outputs": [],
   "source": [
    "(ggplot(ts) \n",
    " + aes(\"date\", \"value\") \n",
    " + geom_line())"
   ]
  },
  {
   "cell_type": "code",
   "execution_count": null,
   "metadata": {
    "tags": [
     "ex",
     "name:timeseries",
     "package:pandas"
    ]
   },
   "outputs": [],
   "source": [
    "ts.set_index('date')['value'].plot()"
   ]
  },
  {
   "cell_type": "code",
   "execution_count": null,
   "metadata": {
    "tags": [
     "ex",
     "name:timeseries",
     "package:plotly"
    ]
   },
   "outputs": [],
   "source": [
    "px.line(\n",
    "    ts, x=\"date\", y=\"value\"\n",
    ")"
   ]
  },
  {
   "cell_type": "code",
   "execution_count": null,
   "metadata": {
    "tags": [
     "ex",
     "name:timeseries",
     "package:altair"
    ]
   },
   "outputs": [],
   "source": [
    "alt.Chart(ts).mark_line().encode(\n",
    "    x=\"date\", y=\"value\"\n",
    ")"
   ]
  }
 ],
 "metadata": {
  "celltoolbar": "Tags",
  "kernelspec": {
   "display_name": "Python 3",
   "language": "python",
   "name": "python3"
  },
  "language_info": {
   "codemirror_mode": {
    "name": "ipython",
    "version": 3
   },
   "file_extension": ".py",
   "mimetype": "text/x-python",
   "name": "python",
   "nbconvert_exporter": "python",
   "pygments_lexer": "ipython3",
   "version": "3.7.7"
  }
 },
 "nbformat": 4,
 "nbformat_minor": 1
}
