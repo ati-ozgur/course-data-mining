{
 "cells": [
  {
   "cell_type": "code",
   "execution_count": null,
   "id": "47843006",
   "metadata": {},
   "outputs": [],
   "source": [
    "import pandas as pd"
   ]
  },
  {
   "cell_type": "code",
   "execution_count": null,
   "id": "b56ae8d6",
   "metadata": {},
   "outputs": [],
   "source": [
    "df = pd.read_csv(\"../course-content/datasets/iris.csv\")\n",
    "columns = [\"sepallength\",\"sepalwidth\",\"petallength\",\"petalwidth\"]"
   ]
  },
  {
   "cell_type": "code",
   "execution_count": null,
   "id": "d3af2c51",
   "metadata": {},
   "outputs": [],
   "source": [
    "df.shape"
   ]
  },
  {
   "cell_type": "code",
   "execution_count": null,
   "id": "752e1ad6",
   "metadata": {},
   "outputs": [],
   "source": [
    "row_filter = df.petalwidth > 1.5"
   ]
  },
  {
   "cell_type": "code",
   "execution_count": null,
   "id": "ade1c49a",
   "metadata": {},
   "outputs": [],
   "source": [
    "df_filtered = df[row_filter]"
   ]
  },
  {
   "cell_type": "code",
   "execution_count": null,
   "id": "f166f7e2",
   "metadata": {},
   "outputs": [],
   "source": [
    "df_filtered.shape"
   ]
  },
  {
   "cell_type": "code",
   "execution_count": null,
   "id": "923529a9",
   "metadata": {},
   "outputs": [],
   "source": [
    "df_filtered"
   ]
  },
  {
   "cell_type": "code",
   "execution_count": null,
   "id": "3d4d095c",
   "metadata": {},
   "outputs": [],
   "source": [
    "row_filter = ((df.petalwidth > 1.5) & (df[\"class\"] == \"Iris-versicolor\"))"
   ]
  },
  {
   "cell_type": "code",
   "execution_count": null,
   "id": "cd4260a4",
   "metadata": {},
   "outputs": [],
   "source": [
    "df[row_filter]"
   ]
  },
  {
   "cell_type": "code",
   "execution_count": null,
   "id": "a33f9733",
   "metadata": {},
   "outputs": [],
   "source": []
  }
 ],
 "metadata": {
  "kernelspec": {
   "display_name": "Python 3 (ipykernel)",
   "language": "python",
   "name": "python3"
  },
  "language_info": {
   "codemirror_mode": {
    "name": "ipython",
    "version": 3
   },
   "file_extension": ".py",
   "mimetype": "text/x-python",
   "name": "python",
   "nbconvert_exporter": "python",
   "pygments_lexer": "ipython3",
   "version": "3.9.5"
  }
 },
 "nbformat": 4,
 "nbformat_minor": 5
}
