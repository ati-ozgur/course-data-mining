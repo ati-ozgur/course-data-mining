{
 "cells": [
  {
   "cell_type": "code",
   "execution_count": 1,
   "id": "4ad15a2d",
   "metadata": {},
   "outputs": [],
   "source": [
    "import numpy as np"
   ]
  },
  {
   "cell_type": "code",
   "execution_count": 2,
   "id": "1aacec10",
   "metadata": {},
   "outputs": [],
   "source": [
    "a = np.array([1,1,2,3,4,5,7,-1,-2])"
   ]
  },
  {
   "cell_type": "code",
   "execution_count": 3,
   "id": "371dea18",
   "metadata": {},
   "outputs": [
    {
     "data": {
      "text/plain": [
       "(9,)"
      ]
     },
     "execution_count": 3,
     "metadata": {},
     "output_type": "execute_result"
    }
   ],
   "source": [
    "a.shape"
   ]
  },
  {
   "cell_type": "code",
   "execution_count": 4,
   "id": "46b99a5f",
   "metadata": {},
   "outputs": [
    {
     "data": {
      "text/plain": [
       "2.0"
      ]
     },
     "execution_count": 4,
     "metadata": {},
     "output_type": "execute_result"
    }
   ],
   "source": [
    "np.median(a)"
   ]
  },
  {
   "cell_type": "code",
   "execution_count": 5,
   "id": "dad2c113",
   "metadata": {},
   "outputs": [],
   "source": [
    "def hello(name):\n",
    "    return f\"hello, {name}\"\n"
   ]
  },
  {
   "cell_type": "code",
   "execution_count": 6,
   "id": "72bef31a",
   "metadata": {},
   "outputs": [
    {
     "data": {
      "text/plain": [
       "'hello, atilla'"
      ]
     },
     "execution_count": 6,
     "metadata": {},
     "output_type": "execute_result"
    }
   ],
   "source": [
    "hello(\"atilla\")"
   ]
  },
  {
   "cell_type": "code",
   "execution_count": 7,
   "id": "1fc3d75a",
   "metadata": {},
   "outputs": [],
   "source": [
    "name = 'atilla'"
   ]
  },
  {
   "cell_type": "code",
   "execution_count": 8,
   "id": "071f2a99",
   "metadata": {},
   "outputs": [
    {
     "data": {
      "text/plain": [
       "'hello, atilla'"
      ]
     },
     "execution_count": 8,
     "metadata": {},
     "output_type": "execute_result"
    }
   ],
   "source": [
    "hello(name=name)"
   ]
  },
  {
   "cell_type": "code",
   "execution_count": null,
   "id": "cbf837a5",
   "metadata": {},
   "outputs": [],
   "source": []
  }
 ],
 "metadata": {
  "kernelspec": {
   "display_name": "Python 3 (ipykernel)",
   "language": "python",
   "name": "python3"
  },
  "language_info": {
   "codemirror_mode": {
    "name": "ipython",
    "version": 3
   },
   "file_extension": ".py",
   "mimetype": "text/x-python",
   "name": "python",
   "nbconvert_exporter": "python",
   "pygments_lexer": "ipython3",
   "version": "3.9.5"
  }
 },
 "nbformat": 4,
 "nbformat_minor": 5
}
