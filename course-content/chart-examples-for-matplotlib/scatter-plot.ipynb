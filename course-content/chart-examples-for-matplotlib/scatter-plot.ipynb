{
 "cells": [
  {
   "cell_type": "code",
   "execution_count": null,
   "id": "4f73d292",
   "metadata": {},
   "outputs": [],
   "source": [
    "%matplotlib inline\n",
    "import numpy as np\n",
    "import matplotlib.pyplot as plt\n",
    "plt.style.use('seaborn-white')\n",
    "import pandas as pd"
   ]
  },
  {
   "cell_type": "code",
   "execution_count": null,
   "id": "8dbb9155",
   "metadata": {},
   "outputs": [],
   "source": [
    "df = pd.read_csv(\"../course-content/datasets/iris.csv\")\n",
    "columns = [\"sepallength\",\"sepalwidth\",\"petallength\",\"petalwidth\"]"
   ]
  },
  {
   "cell_type": "code",
   "execution_count": null,
   "id": "50267b9c",
   "metadata": {},
   "outputs": [],
   "source": [
    "sepallength = df.sepallength"
   ]
  },
  {
   "cell_type": "code",
   "execution_count": null,
   "id": "ef9bb2f6",
   "metadata": {},
   "outputs": [],
   "source": [
    "sepalwidth = df.sepalwidth"
   ]
  },
  {
   "cell_type": "code",
   "execution_count": null,
   "id": "79396c51",
   "metadata": {},
   "outputs": [],
   "source": [
    "plt.scatter(sepallength,sepalwidth)"
   ]
  },
  {
   "cell_type": "code",
   "execution_count": null,
   "id": "877be587",
   "metadata": {},
   "outputs": [],
   "source": [
    "plt.scatter(df.petallength,df.petalwidth)"
   ]
  },
  {
   "cell_type": "code",
   "execution_count": null,
   "id": "9801df3e",
   "metadata": {},
   "outputs": [],
   "source": []
  }
 ],
 "metadata": {
  "kernelspec": {
   "display_name": "Python 3 (ipykernel)",
   "language": "python",
   "name": "python3"
  },
  "language_info": {
   "codemirror_mode": {
    "name": "ipython",
    "version": 3
   },
   "file_extension": ".py",
   "mimetype": "text/x-python",
   "name": "python",
   "nbconvert_exporter": "python",
   "pygments_lexer": "ipython3",
   "version": "3.9.5"
  }
 },
 "nbformat": 4,
 "nbformat_minor": 5
}
