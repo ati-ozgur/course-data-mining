{
 "cells": [
  {
   "cell_type": "markdown",
   "id": "1fe32a90",
   "metadata": {},
   "source": [
    "# symbolic graphic vs numeric graphic\n",
    "\n",
    "Our graphing solutions are numeric.\n",
    "Therefore, when we want to create graphs of functions like below:\n",
    "\n",
    "- sin(x)\n",
    "- log(x)\n",
    "\n",
    "we need to have x and corresponding y=f(x) values.\n",
    "Then using this numeric values, our figure is drawn.\n",
    "This is true for all numeric graphic solutions.\n",
    "\n",
    "like\n",
    "\n",
    "- matplotlib\n",
    "- matlab\n",
    "- ggplot R\n",
    "- R base graph\n",
    "- and others\n",
    "\n"
   ]
  },
  {
   "cell_type": "code",
   "execution_count": null,
   "id": "0ccdb7d4",
   "metadata": {},
   "outputs": [],
   "source": [
    "%matplotlib inline\n",
    "import matplotlib.pyplot as plt\n",
    "plt.style.use('seaborn-whitegrid')\n",
    "import numpy as np"
   ]
  },
  {
   "cell_type": "code",
   "execution_count": null,
   "id": "df71fc20",
   "metadata": {},
   "outputs": [],
   "source": [
    "\n",
    "number_of_points = 1000\n",
    "fig = plt.figure()\n",
    "ax = plt.axes()\n",
    "x = np.linspace(0, 10, number_of_points)\n",
    "y = np.sin(x)\n",
    "ax.plot(x,y);\n"
   ]
  },
  {
   "cell_type": "code",
   "execution_count": null,
   "id": "40ea0ee6",
   "metadata": {},
   "outputs": [],
   "source": [
    "y"
   ]
  },
  {
   "cell_type": "code",
   "execution_count": null,
   "id": "53de1d1c",
   "metadata": {},
   "outputs": [],
   "source": [
    "number_of_points = 100\n",
    "\n",
    "fig = plt.figure()\n",
    "ax = plt.axes()\n",
    "x = np.linspace(0, 10, number_of_points)\n",
    "y = np.sin(x)\n",
    "ax.plot(x,y);\n"
   ]
  },
  {
   "cell_type": "code",
   "execution_count": null,
   "id": "05523f35",
   "metadata": {},
   "outputs": [],
   "source": [
    "y"
   ]
  },
  {
   "cell_type": "code",
   "execution_count": null,
   "id": "8312e2ce",
   "metadata": {},
   "outputs": [],
   "source": [
    "number_of_points = 10\n",
    "\n",
    "fig = plt.figure()\n",
    "ax = plt.axes()\n",
    "x = np.linspace(0, 10, number_of_points)\n",
    "y = np.sin(x)\n",
    "ax.plot(x,y);"
   ]
  },
  {
   "cell_type": "code",
   "execution_count": null,
   "id": "c1e8227e",
   "metadata": {},
   "outputs": [],
   "source": [
    "y"
   ]
  },
  {
   "cell_type": "code",
   "execution_count": null,
   "id": "4fc1ba1b",
   "metadata": {},
   "outputs": [],
   "source": []
  },
  {
   "cell_type": "code",
   "execution_count": null,
   "id": "7b807963",
   "metadata": {},
   "outputs": [],
   "source": []
  }
 ],
 "metadata": {
  "kernelspec": {
   "display_name": "Python 3 (ipykernel)",
   "language": "python",
   "name": "python3"
  },
  "language_info": {
   "codemirror_mode": {
    "name": "ipython",
    "version": 3
   },
   "file_extension": ".py",
   "mimetype": "text/x-python",
   "name": "python",
   "nbconvert_exporter": "python",
   "pygments_lexer": "ipython3",
   "version": "3.9.5"
  }
 },
 "nbformat": 4,
 "nbformat_minor": 5
}
