{
 "cells": [
  {
   "cell_type": "markdown",
   "id": "3b47540e",
   "metadata": {},
   "source": [
    "# xlim and ylim\n",
    "\n",
    "\n"
   ]
  },
  {
   "cell_type": "code",
   "execution_count": null,
   "id": "fcb9b87d",
   "metadata": {},
   "outputs": [],
   "source": [
    "%matplotlib inline\n",
    "import matplotlib.pyplot as plt\n",
    "plt.style.use('seaborn-whitegrid')\n",
    "import numpy as np"
   ]
  },
  {
   "cell_type": "code",
   "execution_count": null,
   "id": "df40d8e7",
   "metadata": {},
   "outputs": [],
   "source": [
    "\n",
    "number_of_points = 1000\n",
    "fig = plt.figure()\n",
    "ax = plt.axes()\n",
    "x = np.linspace(0, 10, number_of_points)\n",
    "y = np.sin(x)\n",
    "ax.plot(x,y);\n"
   ]
  },
  {
   "cell_type": "code",
   "execution_count": null,
   "id": "70077d23",
   "metadata": {},
   "outputs": [],
   "source": [
    "\n",
    "number_of_points = 1000\n",
    "fig = plt.figure()\n",
    "ax = plt.axes()\n",
    "x = np.linspace(0, 10, number_of_points)\n",
    "y = np.sin(x)\n",
    "ax.plot(x,y);\n",
    "plt.xlim(-1, 11)\n",
    "plt.ylim(-1.5, 1.5);\n"
   ]
  },
  {
   "cell_type": "code",
   "execution_count": null,
   "id": "814e2804",
   "metadata": {},
   "outputs": [],
   "source": []
  }
 ],
 "metadata": {
  "kernelspec": {
   "display_name": "Python 3 (ipykernel)",
   "language": "python",
   "name": "python3"
  },
  "language_info": {
   "codemirror_mode": {
    "name": "ipython",
    "version": 3
   },
   "file_extension": ".py",
   "mimetype": "text/x-python",
   "name": "python",
   "nbconvert_exporter": "python",
   "pygments_lexer": "ipython3",
   "version": "3.9.5"
  }
 },
 "nbformat": 4,
 "nbformat_minor": 5
}
