{
 "cells": [
  {
   "cell_type": "markdown",
   "id": "3b47540e",
   "metadata": {},
   "source": [
    "# legend\n",
    "\n",
    "\n"
   ]
  },
  {
   "cell_type": "code",
   "execution_count": null,
   "id": "fcb9b87d",
   "metadata": {},
   "outputs": [],
   "source": [
    "%matplotlib inline\n",
    "import matplotlib.pyplot as plt\n",
    "plt.style.use('seaborn-whitegrid')\n",
    "import numpy as np"
   ]
  },
  {
   "cell_type": "code",
   "execution_count": null,
   "id": "df40d8e7",
   "metadata": {},
   "outputs": [],
   "source": [
    "\n",
    "number_of_points = 1000\n",
    "fig = plt.figure()\n",
    "ax = plt.axes()\n",
    "x = np.linspace(0, 10, number_of_points)\n",
    "y1 = np.sin(x)\n",
    "y2 = np.cos(x)\n",
    "ax.plot(x,y1,label='sin(x)');\n",
    "ax.plot(x,y2,label='cos(x)');\n",
    "plt.title(\"A Sine Curve\")\n",
    "plt.xlabel(\"x\")\n",
    "plt.legend();\n"
   ]
  },
  {
   "cell_type": "markdown",
   "id": "3e9328d1",
   "metadata": {},
   "source": [
    "We can use latex math notation using $$ inside our strings. See below example"
   ]
  },
  {
   "cell_type": "code",
   "execution_count": null,
   "id": "febc54cd",
   "metadata": {},
   "outputs": [],
   "source": [
    "number_of_points = 1000\n",
    "fig = plt.figure()\n",
    "ax = plt.axes()\n",
    "x = np.linspace(0, 10, number_of_points)\n",
    "y = np.exp(x)\n",
    "ax.plot(x,y,label=\"$e^x$\");\n",
    "plt.title(\"A exponential $e^x$ Curve\")\n",
    "plt.xlabel(\"x\")\n",
    "plt.legend();"
   ]
  },
  {
   "cell_type": "code",
   "execution_count": null,
   "id": "59ca230c",
   "metadata": {},
   "outputs": [],
   "source": []
  }
 ],
 "metadata": {
  "kernelspec": {
   "display_name": "Python 3 (ipykernel)",
   "language": "python",
   "name": "python3"
  },
  "language_info": {
   "codemirror_mode": {
    "name": "ipython",
    "version": 3
   },
   "file_extension": ".py",
   "mimetype": "text/x-python",
   "name": "python",
   "nbconvert_exporter": "python",
   "pygments_lexer": "ipython3",
   "version": "3.9.5"
  }
 },
 "nbformat": 4,
 "nbformat_minor": 5
}
