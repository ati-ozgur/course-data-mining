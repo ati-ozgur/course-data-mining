{
 "cells": [
  {
   "cell_type": "code",
   "execution_count": null,
   "id": "2fd570b3",
   "metadata": {},
   "outputs": [],
   "source": [
    "import pandas as pd \n",
    "import matplotlib.pyplot as plt\n"
   ]
  },
  {
   "cell_type": "code",
   "execution_count": null,
   "id": "9a612e16",
   "metadata": {},
   "outputs": [],
   "source": [
    "df = pd.DataFrame( { \"Department\": ['A', 'B', 'C', 'D', 'E', 'F'],\"Sales\": [2000, 2500, 2800, 3000, 3200, 3500]} )"
   ]
  },
  {
   "cell_type": "code",
   "execution_count": null,
   "id": "f8276429",
   "metadata": {},
   "outputs": [],
   "source": [
    "df"
   ]
  },
  {
   "cell_type": "code",
   "execution_count": null,
   "id": "e0ee0559",
   "metadata": {},
   "outputs": [],
   "source": [
    "plt.plot(df[\"Department\"], df[\"Sales\"])"
   ]
  },
  {
   "cell_type": "code",
   "execution_count": null,
   "id": "0dec9d0c",
   "metadata": {},
   "outputs": [],
   "source": []
  }
 ],
 "metadata": {
  "kernelspec": {
   "display_name": "Python 3 (ipykernel)",
   "language": "python",
   "name": "python3"
  },
  "language_info": {
   "codemirror_mode": {
    "name": "ipython",
    "version": 3
   },
   "file_extension": ".py",
   "mimetype": "text/x-python",
   "name": "python",
   "nbconvert_exporter": "python",
   "pygments_lexer": "ipython3",
   "version": "3.9.5"
  }
 },
 "nbformat": 4,
 "nbformat_minor": 5
}
