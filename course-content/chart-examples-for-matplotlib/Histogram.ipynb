{
 "cells": [
  {
   "cell_type": "markdown",
   "id": "4253d329",
   "metadata": {},
   "source": [
    "# Histogram example"
   ]
  },
  {
   "cell_type": "code",
   "execution_count": null,
   "id": "bd7e610e",
   "metadata": {},
   "outputs": [],
   "source": [
    "%matplotlib inline\n",
    "import numpy as np\n",
    "import matplotlib.pyplot as plt\n",
    "plt.style.use('seaborn-white')\n",
    "\n",
    "data = np.random.randn(1000)\n",
    "plt.hist(data);"
   ]
  },
  {
   "cell_type": "code",
   "execution_count": null,
   "id": "a05503b4",
   "metadata": {},
   "outputs": [],
   "source": [
    "plt.hist(data,bins=20)"
   ]
  },
  {
   "cell_type": "code",
   "execution_count": null,
   "id": "3a1db66d",
   "metadata": {},
   "outputs": [],
   "source": [
    "plt.hist(data,bins=50)"
   ]
  },
  {
   "cell_type": "code",
   "execution_count": null,
   "id": "fc69c12b",
   "metadata": {},
   "outputs": [],
   "source": []
  }
 ],
 "metadata": {
  "kernelspec": {
   "display_name": "Python 3 (ipykernel)",
   "language": "python",
   "name": "python3"
  },
  "language_info": {
   "codemirror_mode": {
    "name": "ipython",
    "version": 3
   },
   "file_extension": ".py",
   "mimetype": "text/x-python",
   "name": "python",
   "nbconvert_exporter": "python",
   "pygments_lexer": "ipython3",
   "version": "3.9.5"
  }
 },
 "nbformat": 4,
 "nbformat_minor": 5
}
