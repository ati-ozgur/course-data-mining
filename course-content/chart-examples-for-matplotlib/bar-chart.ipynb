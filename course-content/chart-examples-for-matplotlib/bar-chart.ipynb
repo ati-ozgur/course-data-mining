{
 "cells": [
  {
   "cell_type": "code",
   "execution_count": null,
   "id": "3182369b",
   "metadata": {},
   "outputs": [],
   "source": [
    "import numpy as np\n",
    "import matplotlib.pyplot as plt\n"
   ]
  },
  {
   "cell_type": "code",
   "execution_count": null,
   "id": "a6468b77",
   "metadata": {},
   "outputs": [],
   "source": [
    "N = 5\n",
    "men_means = (20, 35, 30, 35, 27)\n",
    "ind = np.arange(N)\n",
    "fig, ax = plt.subplots()\n",
    "ax.bar(ind, men_means)\n"
   ]
  },
  {
   "cell_type": "code",
   "execution_count": null,
   "id": "3167ac34",
   "metadata": {},
   "outputs": [],
   "source": [
    "N = 5\n",
    "men_means = (20, 35, 30, 35, 27)\n",
    "women_means = (25, 32, 34, 20, 25)\n",
    "ind_men = np.arange(N)\n",
    "ind_women =np.arange(N) + N\n",
    "fig, ax = plt.subplots()\n",
    "ax.bar(ind_men, men_means)\n",
    "ax.bar(ind_women, women_means)\n"
   ]
  },
  {
   "cell_type": "code",
   "execution_count": null,
   "id": "04031ce5",
   "metadata": {},
   "outputs": [],
   "source": []
  }
 ],
 "metadata": {
  "kernelspec": {
   "display_name": "Python 3 (ipykernel)",
   "language": "python",
   "name": "python3"
  },
  "language_info": {
   "codemirror_mode": {
    "name": "ipython",
    "version": 3
   },
   "file_extension": ".py",
   "mimetype": "text/x-python",
   "name": "python",
   "nbconvert_exporter": "python",
   "pygments_lexer": "ipython3",
   "version": "3.9.5"
  }
 },
 "nbformat": 4,
 "nbformat_minor": 5
}
